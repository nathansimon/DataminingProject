{
 "cells": [
  {
   "cell_type": "code",
   "execution_count": 2,
   "metadata": {},
   "outputs": [],
   "source": [
    "import pandas as pd\n",
    "\n",
    "data = pd.read_excel('textLDA.xlsx', error_bad_lines=False);\n",
    "data_text = data[['Summary']]\n",
    "documents = data_text"
   ]
  },
  {
   "cell_type": "code",
   "execution_count": 3,
   "metadata": {},
   "outputs": [
    {
     "data": {
      "text/plain": [
       "16565"
      ]
     },
     "execution_count": 3,
     "metadata": {},
     "output_type": "execute_result"
    }
   ],
   "source": [
    "len(documents)"
   ]
  },
  {
   "cell_type": "code",
   "execution_count": 4,
   "metadata": {},
   "outputs": [
    {
     "data": {
      "text/html": [
       "<div>\n",
       "<style scoped>\n",
       "    .dataframe tbody tr th:only-of-type {\n",
       "        vertical-align: middle;\n",
       "    }\n",
       "\n",
       "    .dataframe tbody tr th {\n",
       "        vertical-align: top;\n",
       "    }\n",
       "\n",
       "    .dataframe thead th {\n",
       "        text-align: right;\n",
       "    }\n",
       "</style>\n",
       "<table border=\"1\" class=\"dataframe\">\n",
       "  <thead>\n",
       "    <tr style=\"text-align: right;\">\n",
       "      <th></th>\n",
       "      <th>Summary</th>\n",
       "    </tr>\n",
       "  </thead>\n",
       "  <tbody>\n",
       "    <tr>\n",
       "      <td>0</td>\n",
       "      <td>ENGLISH TRANSLATION: 'A MESSAGE TO THE TRUTHFU...</td>\n",
       "    </tr>\n",
       "    <tr>\n",
       "      <td>1</td>\n",
       "      <td>ENGLISH TRANSLATION: SHEIKH FATIH AL JAWLANI '...</td>\n",
       "    </tr>\n",
       "    <tr>\n",
       "      <td>2</td>\n",
       "      <td>ENGLISH TRANSLATION: FIRST AUDIO MEETING WITH ...</td>\n",
       "    </tr>\n",
       "    <tr>\n",
       "      <td>3</td>\n",
       "      <td>ENGLISH TRANSLATION: SHEIKH NASIR AL WUHAYSHI ...</td>\n",
       "    </tr>\n",
       "    <tr>\n",
       "      <td>4</td>\n",
       "      <td>ENGLISH TRANSLATION: AQAP: 'RESPONSE TO SHEIKH...</td>\n",
       "    </tr>\n",
       "  </tbody>\n",
       "</table>\n",
       "</div>"
      ],
      "text/plain": [
       "                                             Summary\n",
       "0  ENGLISH TRANSLATION: 'A MESSAGE TO THE TRUTHFU...\n",
       "1  ENGLISH TRANSLATION: SHEIKH FATIH AL JAWLANI '...\n",
       "2  ENGLISH TRANSLATION: FIRST AUDIO MEETING WITH ...\n",
       "3  ENGLISH TRANSLATION: SHEIKH NASIR AL WUHAYSHI ...\n",
       "4  ENGLISH TRANSLATION: AQAP: 'RESPONSE TO SHEIKH..."
      ]
     },
     "execution_count": 4,
     "metadata": {},
     "output_type": "execute_result"
    }
   ],
   "source": [
    "documents[:5]"
   ]
  },
  {
   "cell_type": "code",
   "execution_count": 5,
   "metadata": {},
   "outputs": [],
   "source": [
    "import gensim\n",
    "from gensim.utils import simple_preprocess\n",
    "from gensim.parsing.preprocessing import STOPWORDS\n",
    "from nltk.stem import WordNetLemmatizer, SnowballStemmer\n",
    "from nltk.stem.porter import *\n",
    "import numpy as np\n",
    "np.random.seed(2018)"
   ]
  },
  {
   "cell_type": "code",
   "execution_count": 6,
   "metadata": {},
   "outputs": [
    {
     "name": "stderr",
     "output_type": "stream",
     "text": [
      "[nltk_data] Downloading package wordnet to\n",
      "[nltk_data]     /Users/fayikanova/nltk_data...\n",
      "[nltk_data]   Package wordnet is already up-to-date!\n"
     ]
    },
    {
     "data": {
      "text/plain": [
       "True"
      ]
     },
     "execution_count": 6,
     "metadata": {},
     "output_type": "execute_result"
    }
   ],
   "source": [
    "import nltk\n",
    "nltk.download('wordnet')"
   ]
  },
  {
   "cell_type": "code",
   "execution_count": 7,
   "metadata": {},
   "outputs": [
    {
     "name": "stdout",
     "output_type": "stream",
     "text": [
      "go\n"
     ]
    }
   ],
   "source": [
    "print(WordNetLemmatizer().lemmatize('went', pos='v'))"
   ]
  },
  {
   "cell_type": "code",
   "execution_count": 8,
   "metadata": {},
   "outputs": [
    {
     "data": {
      "text/html": [
       "<div>\n",
       "<style scoped>\n",
       "    .dataframe tbody tr th:only-of-type {\n",
       "        vertical-align: middle;\n",
       "    }\n",
       "\n",
       "    .dataframe tbody tr th {\n",
       "        vertical-align: top;\n",
       "    }\n",
       "\n",
       "    .dataframe thead th {\n",
       "        text-align: right;\n",
       "    }\n",
       "</style>\n",
       "<table border=\"1\" class=\"dataframe\">\n",
       "  <thead>\n",
       "    <tr style=\"text-align: right;\">\n",
       "      <th></th>\n",
       "      <th>original word</th>\n",
       "      <th>stemmed</th>\n",
       "    </tr>\n",
       "  </thead>\n",
       "  <tbody>\n",
       "    <tr>\n",
       "      <td>0</td>\n",
       "      <td>caresses</td>\n",
       "      <td>caress</td>\n",
       "    </tr>\n",
       "    <tr>\n",
       "      <td>1</td>\n",
       "      <td>flies</td>\n",
       "      <td>fli</td>\n",
       "    </tr>\n",
       "    <tr>\n",
       "      <td>2</td>\n",
       "      <td>dies</td>\n",
       "      <td>die</td>\n",
       "    </tr>\n",
       "    <tr>\n",
       "      <td>3</td>\n",
       "      <td>mules</td>\n",
       "      <td>mule</td>\n",
       "    </tr>\n",
       "    <tr>\n",
       "      <td>4</td>\n",
       "      <td>denied</td>\n",
       "      <td>deni</td>\n",
       "    </tr>\n",
       "    <tr>\n",
       "      <td>5</td>\n",
       "      <td>died</td>\n",
       "      <td>die</td>\n",
       "    </tr>\n",
       "    <tr>\n",
       "      <td>6</td>\n",
       "      <td>agreed</td>\n",
       "      <td>agre</td>\n",
       "    </tr>\n",
       "    <tr>\n",
       "      <td>7</td>\n",
       "      <td>owned</td>\n",
       "      <td>own</td>\n",
       "    </tr>\n",
       "    <tr>\n",
       "      <td>8</td>\n",
       "      <td>humbled</td>\n",
       "      <td>humbl</td>\n",
       "    </tr>\n",
       "    <tr>\n",
       "      <td>9</td>\n",
       "      <td>sized</td>\n",
       "      <td>size</td>\n",
       "    </tr>\n",
       "    <tr>\n",
       "      <td>10</td>\n",
       "      <td>meeting</td>\n",
       "      <td>meet</td>\n",
       "    </tr>\n",
       "    <tr>\n",
       "      <td>11</td>\n",
       "      <td>stating</td>\n",
       "      <td>state</td>\n",
       "    </tr>\n",
       "    <tr>\n",
       "      <td>12</td>\n",
       "      <td>siezing</td>\n",
       "      <td>siez</td>\n",
       "    </tr>\n",
       "    <tr>\n",
       "      <td>13</td>\n",
       "      <td>itemization</td>\n",
       "      <td>item</td>\n",
       "    </tr>\n",
       "    <tr>\n",
       "      <td>14</td>\n",
       "      <td>sensational</td>\n",
       "      <td>sensat</td>\n",
       "    </tr>\n",
       "    <tr>\n",
       "      <td>15</td>\n",
       "      <td>traditional</td>\n",
       "      <td>tradit</td>\n",
       "    </tr>\n",
       "    <tr>\n",
       "      <td>16</td>\n",
       "      <td>reference</td>\n",
       "      <td>refer</td>\n",
       "    </tr>\n",
       "    <tr>\n",
       "      <td>17</td>\n",
       "      <td>colonizer</td>\n",
       "      <td>colon</td>\n",
       "    </tr>\n",
       "    <tr>\n",
       "      <td>18</td>\n",
       "      <td>plotted</td>\n",
       "      <td>plot</td>\n",
       "    </tr>\n",
       "  </tbody>\n",
       "</table>\n",
       "</div>"
      ],
      "text/plain": [
       "   original word stemmed\n",
       "0       caresses  caress\n",
       "1          flies     fli\n",
       "2           dies     die\n",
       "3          mules    mule\n",
       "4         denied    deni\n",
       "5           died     die\n",
       "6         agreed    agre\n",
       "7          owned     own\n",
       "8        humbled   humbl\n",
       "9          sized    size\n",
       "10       meeting    meet\n",
       "11       stating   state\n",
       "12       siezing    siez\n",
       "13   itemization    item\n",
       "14   sensational  sensat\n",
       "15   traditional  tradit\n",
       "16     reference   refer\n",
       "17     colonizer   colon\n",
       "18       plotted    plot"
      ]
     },
     "execution_count": 8,
     "metadata": {},
     "output_type": "execute_result"
    }
   ],
   "source": [
    "stemmer = SnowballStemmer('english')\n",
    "original_words = ['caresses', 'flies', 'dies', 'mules', 'denied','died', 'agreed', 'owned', \n",
    "           'humbled', 'sized','meeting', 'stating', 'siezing', 'itemization','sensational', \n",
    "           'traditional', 'reference', 'colonizer','plotted']\n",
    "singles = [stemmer.stem(plural) for plural in original_words]\n",
    "pd.DataFrame(data = {'original word': original_words, 'stemmed': singles})"
   ]
  },
  {
   "cell_type": "code",
   "execution_count": 9,
   "metadata": {},
   "outputs": [],
   "source": [
    "def lemmatize_stemming(text):\n",
    "    return stemmer.stem(WordNetLemmatizer().lemmatize(text, pos='v'))\n",
    "\n",
    "def preprocess(text):\n",
    "    result = []\n",
    "    for token in gensim.utils.simple_preprocess(text):\n",
    "        if token not in gensim.parsing.preprocessing.STOPWORDS and len(token) > 3:\n",
    "            result.append(lemmatize_stemming(token))\n",
    "    return result"
   ]
  },
  {
   "cell_type": "code",
   "execution_count": 14,
   "metadata": {},
   "outputs": [],
   "source": [
    "processed_docs = documents['Summary'].astype(str).map(preprocess)"
   ]
  },
  {
   "cell_type": "code",
   "execution_count": 15,
   "metadata": {},
   "outputs": [
    {
     "data": {
      "text/plain": [
       "0    [english, translat, messag, truth, syria, shei...\n",
       "1    [english, translat, sheikh, fatih, jawlani, pe...\n",
       "2    [english, translat, audio, meet, sheikh, fatih...\n",
       "3    [english, translat, sheikh, nasir, wuhayshi, l...\n",
       "4    [english, translat, aqap, respons, sheikh, bag...\n",
       "5    [second, clip, seri, soldier, video, link, htt...\n",
       "6    [english, transcript, murabit, http, hujlj, kg...\n",
       "7    [english, translat, collect, word, lama, dawla...\n",
       "8    [aslm, share, account, previous, suspend, khal...\n",
       "9    [english, translat, aqap, statement, bless, ra...\n",
       "Name: Summary, dtype: object"
      ]
     },
     "execution_count": 15,
     "metadata": {},
     "output_type": "execute_result"
    }
   ],
   "source": [
    "processed_docs[:10]"
   ]
  },
  {
   "cell_type": "code",
   "execution_count": 16,
   "metadata": {},
   "outputs": [],
   "source": [
    "dictionary = gensim.corpora.Dictionary(processed_docs)"
   ]
  },
  {
   "cell_type": "code",
   "execution_count": 17,
   "metadata": {},
   "outputs": [
    {
     "name": "stdout",
     "output_type": "stream",
     "text": [
      "0 bzcscxzq\n",
      "1 english\n",
      "2 http\n",
      "3 maqdisi\n",
      "4 messag\n",
      "5 muham\n",
      "6 sheikh\n",
      "7 syria\n",
      "8 translat\n",
      "9 truth\n",
      "10 xfszsjvr\n"
     ]
    }
   ],
   "source": [
    "count = 0\n",
    "for k, v in dictionary.iteritems():\n",
    "    print(k, v)\n",
    "    count += 1\n",
    "    if count > 10:\n",
    "        break"
   ]
  },
  {
   "cell_type": "code",
   "execution_count": 18,
   "metadata": {},
   "outputs": [],
   "source": [
    "dictionary.filter_extremes(no_below=15, no_above=0.5, keep_n=100000)"
   ]
  },
  {
   "cell_type": "code",
   "execution_count": 19,
   "metadata": {},
   "outputs": [
    {
     "data": {
      "text/plain": [
       "[(219, 1), (464, 1), (623, 1), (915, 1), (1066, 1), (1148, 1), (1420, 1)]"
      ]
     },
     "execution_count": 19,
     "metadata": {},
     "output_type": "execute_result"
    }
   ],
   "source": [
    "bow_corpus = [dictionary.doc2bow(doc) for doc in processed_docs]\n",
    "bow_corpus[4310]"
   ]
  },
  {
   "cell_type": "code",
   "execution_count": 20,
   "metadata": {},
   "outputs": [
    {
     "name": "stdout",
     "output_type": "stream",
     "text": [
      "Word 219 (\"die\") appears 1 time.\n",
      "Word 464 (\"bomb\") appears 1 time.\n",
      "Word 623 (\"cluster\") appears 1 time.\n",
      "Word 915 (\"wayf\") appears 1 time.\n",
      "Word 1066 (\"explod\") appears 1 time.\n",
      "Word 1148 (\"student\") appears 1 time.\n",
      "Word 1420 (\"rer__\") appears 1 time.\n"
     ]
    }
   ],
   "source": [
    "bow_doc_4310 = bow_corpus[4310]\n",
    "\n",
    "for i in range(len(bow_doc_4310)):\n",
    "    print(\"Word {} (\\\"{}\\\") appears {} time.\".format(bow_doc_4310[i][0], \n",
    "                                                     dictionary[bow_doc_4310[i][0]], \n",
    "                                                     bow_doc_4310[i][1]))"
   ]
  },
  {
   "cell_type": "code",
   "execution_count": 21,
   "metadata": {},
   "outputs": [],
   "source": [
    "from gensim import corpora, models\n",
    "\n",
    "tfidf = models.TfidfModel(bow_corpus)\n"
   ]
  },
  {
   "cell_type": "code",
   "execution_count": 22,
   "metadata": {},
   "outputs": [],
   "source": [
    "corpus_tfidf = tfidf[bow_corpus]"
   ]
  },
  {
   "cell_type": "code",
   "execution_count": 23,
   "metadata": {},
   "outputs": [
    {
     "name": "stdout",
     "output_type": "stream",
     "text": [
      "[(0, 0.34493054413034635),\n",
      " (1, 0.497045147662217),\n",
      " (2, 0.4168438606487528),\n",
      " (3, 0.3508802280734451),\n",
      " (4, 0.2820665771118998),\n",
      " (5, 0.1376582816633768),\n",
      " (6, 0.3521443313090525),\n",
      " (7, 0.33849123443705564)]\n"
     ]
    }
   ],
   "source": [
    "from pprint import pprint\n",
    "\n",
    "for doc in corpus_tfidf:\n",
    "    pprint(doc)\n",
    "    break"
   ]
  },
  {
   "cell_type": "code",
   "execution_count": 24,
   "metadata": {},
   "outputs": [],
   "source": [
    "lda_model = gensim.models.LdaMulticore(bow_corpus, num_topics=10, id2word=dictionary, passes=2, workers=2)\n"
   ]
  },
  {
   "cell_type": "code",
   "execution_count": 25,
   "metadata": {},
   "outputs": [
    {
     "name": "stdout",
     "output_type": "stream",
     "text": [
      "Topic: 0 \n",
      "Words: 0.033*\"ramadi\" + 0.032*\"iraqi\" + 0.030*\"armi\" + 0.027*\"near\" + 0.027*\"kill\" + 0.019*\"amaqag\" + 0.019*\"forc\" + 0.018*\"area\" + 0.018*\"north\" + 0.017*\"destroy\"\n",
      "Topic: 1 \n",
      "Words: 0.020*\"attack\" + 0.018*\"isi\" + 0.015*\"kill\" + 0.015*\"like\" + 0.013*\"report\" + 0.011*\"syrian\" + 0.011*\"aleppo\" + 0.010*\"scotsmaninfidel\" + 0.010*\"spicylatt\" + 0.009*\"guy\"\n",
      "Topic: 2 \n",
      "Words: 0.026*\"islam\" + 0.019*\"kill\" + 0.019*\"state\" + 0.019*\"fight\" + 0.018*\"saudi\" + 0.014*\"work\" + 0.013*\"hezbollah\" + 0.013*\"mosul\" + 0.012*\"today\" + 0.011*\"break\"\n",
      "Topic: 3 \n",
      "Words: 0.030*\"muslim\" + 0.015*\"warreport\" + 0.012*\"know\" + 0.011*\"isi\" + 0.011*\"support\" + 0.011*\"follow\" + 0.010*\"word\" + 0.009*\"like\" + 0.009*\"scotsmaninfidel\" + 0.009*\"time\"\n",
      "Topic: 4 \n",
      "Words: 0.024*\"isi\" + 0.022*\"captur\" + 0.020*\"islam\" + 0.015*\"think\" + 0.014*\"state\" + 0.013*\"jund\" + 0.012*\"aqsa\" + 0.012*\"video\" + 0.010*\"iraq\" + 0.009*\"group\"\n",
      "Topic: 5 \n",
      "Words: 0.052*\"break\" + 0.046*\"amaqag\" + 0.043*\"islamicst\" + 0.030*\"kill\" + 0.014*\"soldier\" + 0.013*\"citi\" + 0.013*\"isi\" + 0.013*\"fighter\" + 0.013*\"kurdish\" + 0.012*\"syrian\"\n",
      "Topic: 6 \n",
      "Words: 0.050*\"syria\" + 0.044*\"isi\" + 0.018*\"assad\" + 0.017*\"aleppo\" + 0.016*\"armi\" + 0.014*\"ramiallolah\" + 0.014*\"northern\" + 0.014*\"iraq\" + 0.012*\"forc\" + 0.011*\"rebel\"\n",
      "Topic: 7 \n",
      "Words: 0.035*\"kill\" + 0.019*\"soldier\" + 0.018*\"isi\" + 0.018*\"islam\" + 0.016*\"allah\" + 0.015*\"state\" + 0.014*\"airstrik\" + 0.013*\"syria\" + 0.013*\"attack\" + 0.012*\"russian\"\n",
      "Topic: 8 \n",
      "Words: 0.056*\"scotsmaninfidel\" + 0.047*\"sassysassyr\" + 0.041*\"spicylatt\" + 0.040*\"kafirkati\" + 0.016*\"jailamx\" + 0.013*\"assad\" + 0.011*\"isi\" + 0.009*\"children\" + 0.009*\"africa\" + 0.009*\"kill\"\n",
      "Topic: 9 \n",
      "Words: 0.044*\"isi\" + 0.023*\"syria\" + 0.017*\"turkey\" + 0.016*\"aleppo\" + 0.012*\"kill\" + 0.010*\"rebel\" + 0.009*\"north\" + 0.009*\"fighter\" + 0.009*\"south\" + 0.009*\"suppli\"\n"
     ]
    }
   ],
   "source": [
    "for idx, topic in lda_model.print_topics(-1):\n",
    "    print('Topic: {} \\nWords: {}'.format(idx, topic))"
   ]
  },
  {
   "cell_type": "code",
   "execution_count": 26,
   "metadata": {},
   "outputs": [],
   "source": [
    "lda_model_tfidf = gensim.models.LdaMulticore(corpus_tfidf, num_topics=10, id2word=dictionary, passes=2, workers=4)"
   ]
  },
  {
   "cell_type": "code",
   "execution_count": 27,
   "metadata": {},
   "outputs": [
    {
     "name": "stdout",
     "output_type": "stream",
     "text": [
      "Topic: 0 Word: 0.009*\"kill\" + 0.009*\"syria\" + 0.008*\"break\" + 0.008*\"isi\" + 0.007*\"video\" + 0.007*\"armi\" + 0.006*\"iraqi\" + 0.006*\"civilian\" + 0.006*\"look\" + 0.006*\"gaza\"\n",
      "Topic: 1 Word: 0.014*\"syria\" + 0.010*\"isi\" + 0.010*\"islam\" + 0.009*\"amaqag\" + 0.009*\"support\" + 0.009*\"kill\" + 0.008*\"assad\" + 0.007*\"ramiallolah\" + 0.007*\"attack\" + 0.006*\"forc\"\n",
      "Topic: 2 Word: 0.016*\"allah\" + 0.011*\"islam\" + 0.011*\"state\" + 0.009*\"sparksofirhabi\" + 0.009*\"kill\" + 0.007*\"scotsmaninfidel\" + 0.007*\"send\" + 0.006*\"report\" + 0.006*\"airstrik\" + 0.005*\"syria\"\n",
      "Topic: 3 Word: 0.019*\"islamicst\" + 0.016*\"break\" + 0.011*\"ameen\" + 0.009*\"amaqag\" + 0.007*\"isi\" + 0.006*\"pour\" + 0.006*\"kill\" + 0.005*\"destroy\" + 0.005*\"russian\" + 0.005*\"mosul\"\n",
      "Topic: 4 Word: 0.012*\"isi\" + 0.009*\"syria\" + 0.008*\"turkey\" + 0.007*\"sparksofirhabi\" + 0.007*\"islam\" + 0.007*\"caliphate_new\" + 0.006*\"state\" + 0.006*\"syrian\" + 0.006*\"kill\" + 0.005*\"citi\"\n",
      "Topic: 5 Word: 0.015*\"isi\" + 0.011*\"iraq\" + 0.010*\"aleppo\" + 0.009*\"rebel\" + 0.009*\"syria\" + 0.009*\"kill\" + 0.008*\"akhi\" + 0.006*\"like\" + 0.006*\"north\" + 0.006*\"ramiallolah\"\n",
      "Topic: 6 Word: 0.011*\"isi\" + 0.010*\"kill\" + 0.008*\"armi\" + 0.008*\"soldier\" + 0.007*\"assad\" + 0.007*\"near\" + 0.007*\"syria\" + 0.006*\"hom\" + 0.006*\"saudi\" + 0.006*\"report\"\n",
      "Topic: 7 Word: 0.008*\"isi\" + 0.007*\"attack\" + 0.006*\"syria\" + 0.006*\"nidalgazaui\" + 0.006*\"kill\" + 0.005*\"aleppo\" + 0.005*\"today\" + 0.005*\"follow\" + 0.005*\"statement\" + 0.005*\"islam\"\n",
      "Topic: 8 Word: 0.012*\"muslim\" + 0.009*\"isi\" + 0.009*\"khair\" + 0.008*\"fight\" + 0.007*\"come\" + 0.007*\"syria\" + 0.007*\"assad\" + 0.006*\"jazakallah\" + 0.006*\"warreport\" + 0.006*\"nusra\"\n",
      "Topic: 9 Word: 0.010*\"armi\" + 0.010*\"kill\" + 0.010*\"isi\" + 0.008*\"iraqi\" + 0.007*\"near\" + 0.007*\"follow\" + 0.007*\"today\" + 0.007*\"syria\" + 0.007*\"report\" + 0.007*\"iraq\"\n"
     ]
    }
   ],
   "source": [
    "for idx, topic in lda_model_tfidf.print_topics(-1):\n",
    "    print('Topic: {} Word: {}'.format(idx, topic))"
   ]
  },
  {
   "cell_type": "code",
   "execution_count": 28,
   "metadata": {},
   "outputs": [
    {
     "data": {
      "text/plain": [
       "['wayf', 'rer__', 'student', 'die', 'cluster', 'bomb', 'explod']"
      ]
     },
     "execution_count": 28,
     "metadata": {},
     "output_type": "execute_result"
    }
   ],
   "source": [
    "processed_docs[4310]"
   ]
  },
  {
   "cell_type": "code",
   "execution_count": 29,
   "metadata": {},
   "outputs": [
    {
     "name": "stdout",
     "output_type": "stream",
     "text": [
      "\n",
      "Score: 0.8874092102050781\t \n",
      "Topic: 0.056*\"scotsmaninfidel\" + 0.047*\"sassysassyr\" + 0.041*\"spicylatt\" + 0.040*\"kafirkati\" + 0.016*\"jailamx\" + 0.013*\"assad\" + 0.011*\"isi\" + 0.009*\"children\" + 0.009*\"africa\" + 0.009*\"kill\"\n",
      "\n",
      "Score: 0.012513812631368637\t \n",
      "Topic: 0.052*\"break\" + 0.046*\"amaqag\" + 0.043*\"islamicst\" + 0.030*\"kill\" + 0.014*\"soldier\" + 0.013*\"citi\" + 0.013*\"isi\" + 0.013*\"fighter\" + 0.013*\"kurdish\" + 0.012*\"syrian\"\n",
      "\n",
      "Score: 0.01251175720244646\t \n",
      "Topic: 0.020*\"attack\" + 0.018*\"isi\" + 0.015*\"kill\" + 0.015*\"like\" + 0.013*\"report\" + 0.011*\"syrian\" + 0.011*\"aleppo\" + 0.010*\"scotsmaninfidel\" + 0.010*\"spicylatt\" + 0.009*\"guy\"\n",
      "\n",
      "Score: 0.012511327862739563\t \n",
      "Topic: 0.026*\"islam\" + 0.019*\"kill\" + 0.019*\"state\" + 0.019*\"fight\" + 0.018*\"saudi\" + 0.014*\"work\" + 0.013*\"hezbollah\" + 0.013*\"mosul\" + 0.012*\"today\" + 0.011*\"break\"\n",
      "\n",
      "Score: 0.012511054053902626\t \n",
      "Topic: 0.044*\"isi\" + 0.023*\"syria\" + 0.017*\"turkey\" + 0.016*\"aleppo\" + 0.012*\"kill\" + 0.010*\"rebel\" + 0.009*\"north\" + 0.009*\"fighter\" + 0.009*\"south\" + 0.009*\"suppli\"\n",
      "\n",
      "Score: 0.012509828433394432\t \n",
      "Topic: 0.033*\"ramadi\" + 0.032*\"iraqi\" + 0.030*\"armi\" + 0.027*\"near\" + 0.027*\"kill\" + 0.019*\"amaqag\" + 0.019*\"forc\" + 0.018*\"area\" + 0.018*\"north\" + 0.017*\"destroy\"\n",
      "\n",
      "Score: 0.012509306892752647\t \n",
      "Topic: 0.035*\"kill\" + 0.019*\"soldier\" + 0.018*\"isi\" + 0.018*\"islam\" + 0.016*\"allah\" + 0.015*\"state\" + 0.014*\"airstrik\" + 0.013*\"syria\" + 0.013*\"attack\" + 0.012*\"russian\"\n",
      "\n",
      "Score: 0.012508855201303959\t \n",
      "Topic: 0.030*\"muslim\" + 0.015*\"warreport\" + 0.012*\"know\" + 0.011*\"isi\" + 0.011*\"support\" + 0.011*\"follow\" + 0.010*\"word\" + 0.009*\"like\" + 0.009*\"scotsmaninfidel\" + 0.009*\"time\"\n",
      "\n",
      "Score: 0.012508085928857327\t \n",
      "Topic: 0.050*\"syria\" + 0.044*\"isi\" + 0.018*\"assad\" + 0.017*\"aleppo\" + 0.016*\"armi\" + 0.014*\"ramiallolah\" + 0.014*\"northern\" + 0.014*\"iraq\" + 0.012*\"forc\" + 0.011*\"rebel\"\n",
      "\n",
      "Score: 0.012506750412285328\t \n",
      "Topic: 0.024*\"isi\" + 0.022*\"captur\" + 0.020*\"islam\" + 0.015*\"think\" + 0.014*\"state\" + 0.013*\"jund\" + 0.012*\"aqsa\" + 0.012*\"video\" + 0.010*\"iraq\" + 0.009*\"group\"\n"
     ]
    }
   ],
   "source": [
    "for index, score in sorted(lda_model[bow_corpus[4310]], key=lambda tup: -1*tup[1]):\n",
    "    print(\"\\nScore: {}\\t \\nTopic: {}\".format(score, lda_model.print_topic(index, 10)))\n"
   ]
  },
  {
   "cell_type": "code",
   "execution_count": 30,
   "metadata": {},
   "outputs": [
    {
     "name": "stdout",
     "output_type": "stream",
     "text": [
      "\n",
      "Score: 0.8874506950378418\t \n",
      "Topic: 0.012*\"isi\" + 0.009*\"syria\" + 0.008*\"turkey\" + 0.007*\"sparksofirhabi\" + 0.007*\"islam\" + 0.007*\"caliphate_new\" + 0.006*\"state\" + 0.006*\"syrian\" + 0.006*\"kill\" + 0.005*\"citi\"\n",
      "\n",
      "Score: 0.012509149499237537\t \n",
      "Topic: 0.008*\"isi\" + 0.007*\"attack\" + 0.006*\"syria\" + 0.006*\"nidalgazaui\" + 0.006*\"kill\" + 0.005*\"aleppo\" + 0.005*\"today\" + 0.005*\"follow\" + 0.005*\"statement\" + 0.005*\"islam\"\n",
      "\n",
      "Score: 0.012506229802966118\t \n",
      "Topic: 0.011*\"isi\" + 0.010*\"kill\" + 0.008*\"armi\" + 0.008*\"soldier\" + 0.007*\"assad\" + 0.007*\"near\" + 0.007*\"syria\" + 0.006*\"hom\" + 0.006*\"saudi\" + 0.006*\"report\"\n",
      "\n",
      "Score: 0.012505878694355488\t \n",
      "Topic: 0.010*\"armi\" + 0.010*\"kill\" + 0.010*\"isi\" + 0.008*\"iraqi\" + 0.007*\"near\" + 0.007*\"follow\" + 0.007*\"today\" + 0.007*\"syria\" + 0.007*\"report\" + 0.007*\"iraq\"\n",
      "\n",
      "Score: 0.012505430728197098\t \n",
      "Topic: 0.009*\"kill\" + 0.009*\"syria\" + 0.008*\"break\" + 0.008*\"isi\" + 0.007*\"video\" + 0.007*\"armi\" + 0.006*\"iraqi\" + 0.006*\"civilian\" + 0.006*\"look\" + 0.006*\"gaza\"\n",
      "\n",
      "Score: 0.012505304999649525\t \n",
      "Topic: 0.014*\"syria\" + 0.010*\"isi\" + 0.010*\"islam\" + 0.009*\"amaqag\" + 0.009*\"support\" + 0.009*\"kill\" + 0.008*\"assad\" + 0.007*\"ramiallolah\" + 0.007*\"attack\" + 0.006*\"forc\"\n",
      "\n",
      "Score: 0.01250492688268423\t \n",
      "Topic: 0.016*\"allah\" + 0.011*\"islam\" + 0.011*\"state\" + 0.009*\"sparksofirhabi\" + 0.009*\"kill\" + 0.007*\"scotsmaninfidel\" + 0.007*\"send\" + 0.006*\"report\" + 0.006*\"airstrik\" + 0.005*\"syria\"\n",
      "\n",
      "Score: 0.012504172511398792\t \n",
      "Topic: 0.015*\"isi\" + 0.011*\"iraq\" + 0.010*\"aleppo\" + 0.009*\"rebel\" + 0.009*\"syria\" + 0.009*\"kill\" + 0.008*\"akhi\" + 0.006*\"like\" + 0.006*\"north\" + 0.006*\"ramiallolah\"\n",
      "\n",
      "Score: 0.01250416599214077\t \n",
      "Topic: 0.019*\"islamicst\" + 0.016*\"break\" + 0.011*\"ameen\" + 0.009*\"amaqag\" + 0.007*\"isi\" + 0.006*\"pour\" + 0.006*\"kill\" + 0.005*\"destroy\" + 0.005*\"russian\" + 0.005*\"mosul\"\n",
      "\n",
      "Score: 0.012504031881690025\t \n",
      "Topic: 0.012*\"muslim\" + 0.009*\"isi\" + 0.009*\"khair\" + 0.008*\"fight\" + 0.007*\"come\" + 0.007*\"syria\" + 0.007*\"assad\" + 0.006*\"jazakallah\" + 0.006*\"warreport\" + 0.006*\"nusra\"\n"
     ]
    }
   ],
   "source": [
    "for index, score in sorted(lda_model_tfidf[bow_corpus[4310]], key=lambda tup: -1*tup[1]):\n",
    "    print(\"\\nScore: {}\\t \\nTopic: {}\".format(score, lda_model_tfidf.print_topic(index, 10)))"
   ]
  },
  {
   "cell_type": "code",
   "execution_count": null,
   "metadata": {},
   "outputs": [],
   "source": []
  }
 ],
 "metadata": {
  "kernelspec": {
   "display_name": "Python 3",
   "language": "python",
   "name": "python3"
  },
  "language_info": {
   "codemirror_mode": {
    "name": "ipython",
    "version": 3
   },
   "file_extension": ".py",
   "mimetype": "text/x-python",
   "name": "python",
   "nbconvert_exporter": "python",
   "pygments_lexer": "ipython3",
   "version": "3.7.4"
  }
 },
 "nbformat": 4,
 "nbformat_minor": 2
}
